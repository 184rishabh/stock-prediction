{
 "cells": [
  {
   "cell_type": "markdown",
   "metadata": {},
   "source": [
    "# importing libraries"
   ]
  },
  {
   "cell_type": "code",
   "execution_count": 71,
   "metadata": {},
   "outputs": [],
   "source": [
    "import numpy as np\n",
    "import pandas as pd\n",
    "import matplotlib.pyplot as plt"
   ]
  },
  {
   "cell_type": "markdown",
   "metadata": {},
   "source": [
    "# importing the dataset"
   ]
  },
  {
   "cell_type": "code",
   "execution_count": 72,
   "metadata": {},
   "outputs": [],
   "source": [
    "df=pd.read_csv('stock.csv')"
   ]
  },
  {
   "cell_type": "code",
   "execution_count": 73,
   "metadata": {},
   "outputs": [
    {
     "data": {
      "text/plain": [
       "(1258, 6)"
      ]
     },
     "execution_count": 73,
     "metadata": {},
     "output_type": "execute_result"
    }
   ],
   "source": [
    "df.shape"
   ]
  },
  {
   "cell_type": "code",
   "execution_count": 4,
   "metadata": {},
   "outputs": [
    {
     "data": {
      "text/html": [
       "<div>\n",
       "<style scoped>\n",
       "    .dataframe tbody tr th:only-of-type {\n",
       "        vertical-align: middle;\n",
       "    }\n",
       "\n",
       "    .dataframe tbody tr th {\n",
       "        vertical-align: top;\n",
       "    }\n",
       "\n",
       "    .dataframe thead th {\n",
       "        text-align: right;\n",
       "    }\n",
       "</style>\n",
       "<table border=\"1\" class=\"dataframe\">\n",
       "  <thead>\n",
       "    <tr style=\"text-align: right;\">\n",
       "      <th></th>\n",
       "      <th>Date</th>\n",
       "      <th>Open</th>\n",
       "      <th>High</th>\n",
       "      <th>Low</th>\n",
       "      <th>Close</th>\n",
       "      <th>Volume</th>\n",
       "    </tr>\n",
       "  </thead>\n",
       "  <tbody>\n",
       "    <tr>\n",
       "      <th>0</th>\n",
       "      <td>1/3/2012</td>\n",
       "      <td>325.25</td>\n",
       "      <td>332.83</td>\n",
       "      <td>324.97</td>\n",
       "      <td>663.59</td>\n",
       "      <td>7,380,500</td>\n",
       "    </tr>\n",
       "    <tr>\n",
       "      <th>1</th>\n",
       "      <td>1/4/2012</td>\n",
       "      <td>331.27</td>\n",
       "      <td>333.87</td>\n",
       "      <td>329.08</td>\n",
       "      <td>666.45</td>\n",
       "      <td>5,749,400</td>\n",
       "    </tr>\n",
       "    <tr>\n",
       "      <th>2</th>\n",
       "      <td>1/5/2012</td>\n",
       "      <td>329.83</td>\n",
       "      <td>330.75</td>\n",
       "      <td>326.89</td>\n",
       "      <td>657.21</td>\n",
       "      <td>6,590,300</td>\n",
       "    </tr>\n",
       "    <tr>\n",
       "      <th>3</th>\n",
       "      <td>1/6/2012</td>\n",
       "      <td>328.34</td>\n",
       "      <td>328.77</td>\n",
       "      <td>323.68</td>\n",
       "      <td>648.24</td>\n",
       "      <td>5,405,900</td>\n",
       "    </tr>\n",
       "    <tr>\n",
       "      <th>4</th>\n",
       "      <td>1/9/2012</td>\n",
       "      <td>322.04</td>\n",
       "      <td>322.29</td>\n",
       "      <td>309.46</td>\n",
       "      <td>620.76</td>\n",
       "      <td>11,688,800</td>\n",
       "    </tr>\n",
       "  </tbody>\n",
       "</table>\n",
       "</div>"
      ],
      "text/plain": [
       "       Date    Open    High     Low   Close      Volume\n",
       "0  1/3/2012  325.25  332.83  324.97  663.59   7,380,500\n",
       "1  1/4/2012  331.27  333.87  329.08  666.45   5,749,400\n",
       "2  1/5/2012  329.83  330.75  326.89  657.21   6,590,300\n",
       "3  1/6/2012  328.34  328.77  323.68  648.24   5,405,900\n",
       "4  1/9/2012  322.04  322.29  309.46  620.76  11,688,800"
      ]
     },
     "execution_count": 4,
     "metadata": {},
     "output_type": "execute_result"
    }
   ],
   "source": [
    "df.head()"
   ]
  },
  {
   "cell_type": "code",
   "execution_count": 5,
   "metadata": {},
   "outputs": [
    {
     "data": {
      "text/html": [
       "<div>\n",
       "<style scoped>\n",
       "    .dataframe tbody tr th:only-of-type {\n",
       "        vertical-align: middle;\n",
       "    }\n",
       "\n",
       "    .dataframe tbody tr th {\n",
       "        vertical-align: top;\n",
       "    }\n",
       "\n",
       "    .dataframe thead th {\n",
       "        text-align: right;\n",
       "    }\n",
       "</style>\n",
       "<table border=\"1\" class=\"dataframe\">\n",
       "  <thead>\n",
       "    <tr style=\"text-align: right;\">\n",
       "      <th></th>\n",
       "      <th>Date</th>\n",
       "      <th>Open</th>\n",
       "      <th>High</th>\n",
       "      <th>Low</th>\n",
       "      <th>Close</th>\n",
       "      <th>Volume</th>\n",
       "    </tr>\n",
       "  </thead>\n",
       "  <tbody>\n",
       "    <tr>\n",
       "      <th>1253</th>\n",
       "      <td>12/23/2016</td>\n",
       "      <td>790.90</td>\n",
       "      <td>792.74</td>\n",
       "      <td>787.28</td>\n",
       "      <td>789.91</td>\n",
       "      <td>623,400</td>\n",
       "    </tr>\n",
       "    <tr>\n",
       "      <th>1254</th>\n",
       "      <td>12/27/2016</td>\n",
       "      <td>790.68</td>\n",
       "      <td>797.86</td>\n",
       "      <td>787.66</td>\n",
       "      <td>791.55</td>\n",
       "      <td>789,100</td>\n",
       "    </tr>\n",
       "    <tr>\n",
       "      <th>1255</th>\n",
       "      <td>12/28/2016</td>\n",
       "      <td>793.70</td>\n",
       "      <td>794.23</td>\n",
       "      <td>783.20</td>\n",
       "      <td>785.05</td>\n",
       "      <td>1,153,800</td>\n",
       "    </tr>\n",
       "    <tr>\n",
       "      <th>1256</th>\n",
       "      <td>12/29/2016</td>\n",
       "      <td>783.33</td>\n",
       "      <td>785.93</td>\n",
       "      <td>778.92</td>\n",
       "      <td>782.79</td>\n",
       "      <td>744,300</td>\n",
       "    </tr>\n",
       "    <tr>\n",
       "      <th>1257</th>\n",
       "      <td>12/30/2016</td>\n",
       "      <td>782.75</td>\n",
       "      <td>782.78</td>\n",
       "      <td>770.41</td>\n",
       "      <td>771.82</td>\n",
       "      <td>1,770,000</td>\n",
       "    </tr>\n",
       "  </tbody>\n",
       "</table>\n",
       "</div>"
      ],
      "text/plain": [
       "            Date    Open    High     Low   Close     Volume\n",
       "1253  12/23/2016  790.90  792.74  787.28  789.91    623,400\n",
       "1254  12/27/2016  790.68  797.86  787.66  791.55    789,100\n",
       "1255  12/28/2016  793.70  794.23  783.20  785.05  1,153,800\n",
       "1256  12/29/2016  783.33  785.93  778.92  782.79    744,300\n",
       "1257  12/30/2016  782.75  782.78  770.41  771.82  1,770,000"
      ]
     },
     "execution_count": 5,
     "metadata": {},
     "output_type": "execute_result"
    }
   ],
   "source": [
    "df.tail()"
   ]
  },
  {
   "cell_type": "code",
   "execution_count": 6,
   "metadata": {},
   "outputs": [
    {
     "data": {
      "text/plain": [
       "Date      0\n",
       "Open      0\n",
       "High      0\n",
       "Low       0\n",
       "Close     0\n",
       "Volume    0\n",
       "dtype: int64"
      ]
     },
     "execution_count": 6,
     "metadata": {},
     "output_type": "execute_result"
    }
   ],
   "source": [
    "df.isnull().sum()"
   ]
  },
  {
   "cell_type": "code",
   "execution_count": 7,
   "metadata": {},
   "outputs": [],
   "source": [
    "df1=df.iloc[:,2:3].values"
   ]
  },
  {
   "cell_type": "code",
   "execution_count": 8,
   "metadata": {},
   "outputs": [
    {
     "data": {
      "text/plain": [
       "array([[332.83],\n",
       "       [333.87],\n",
       "       [330.75],\n",
       "       ...,\n",
       "       [794.23],\n",
       "       [785.93],\n",
       "       [782.78]])"
      ]
     },
     "execution_count": 8,
     "metadata": {},
     "output_type": "execute_result"
    }
   ],
   "source": [
    "df1"
   ]
  },
  {
   "cell_type": "code",
   "execution_count": 9,
   "metadata": {},
   "outputs": [],
   "source": [
    "df2=df1"
   ]
  },
  {
   "cell_type": "code",
   "execution_count": 10,
   "metadata": {},
   "outputs": [
    {
     "data": {
      "image/png": "[encoded data removed]",
      "text/plain": [
       "<Figure size 432x288 with 1 Axes>"
      ]
     },
     "metadata": {
      "needs_background": "light"
     },
     "output_type": "display_data"
    }
   ],
   "source": [
    "plt.plot(df1)\n",
    "plt.show()"
   ]
  },
  {
   "cell_type": "markdown",
   "metadata": {},
   "source": [
    "# scaling the data"
   ]
  },
  {
   "cell_type": "code",
   "execution_count": 11,
   "metadata": {},
   "outputs": [],
   "source": [
    "from sklearn.preprocessing import MinMaxScaler\n",
    "scaler=MinMaxScaler()"
   ]
  },
  {
   "cell_type": "code",
   "execution_count": 12,
   "metadata": {},
   "outputs": [],
   "source": [
    "df1=scaler.fit_transform(df1)"
   ]
  },
  {
   "cell_type": "code",
   "execution_count": 13,
   "metadata": {},
   "outputs": [
    {
     "data": {
      "text/plain": [
       "array([[0.09640129],\n",
       "       [0.09834351],\n",
       "       [0.09251685],\n",
       "       ...,\n",
       "       [0.95807422],\n",
       "       [0.94257381],\n",
       "       [0.93669113]])"
      ]
     },
     "execution_count": 13,
     "metadata": {},
     "output_type": "execute_result"
    }
   ],
   "source": [
    "df1"
   ]
  },
  {
   "cell_type": "code",
   "execution_count": 14,
   "metadata": {},
   "outputs": [],
   "source": [
    "training_size=int(len(df1)*0.8)\n",
    "test_size=len(df1)-training_size"
   ]
  },
  {
   "cell_type": "code",
   "execution_count": 15,
   "metadata": {},
   "outputs": [
    {
     "name": "stdout",
     "output_type": "stream",
     "text": [
      "1006\n",
      "252\n"
     ]
    }
   ],
   "source": [
    "print(training_size)\n",
    "print(test_size)"
   ]
  },
  {
   "cell_type": "code",
   "execution_count": null,
   "metadata": {},
   "outputs": [],
   "source": [
    "#splitting dataset "
   ]
  },
  {
   "cell_type": "code",
   "execution_count": 16,
   "metadata": {},
   "outputs": [],
   "source": [
    "train_data,test_data=df1[0:training_size,:],df1[training_size:len(df1),:]"
   ]
  },
  {
   "cell_type": "code",
   "execution_count": 17,
   "metadata": {},
   "outputs": [
    {
     "name": "stdout",
     "output_type": "stream",
     "text": [
      "(1006, 1)\n",
      "(252, 1)\n"
     ]
    }
   ],
   "source": [
    "print(train_data.shape)\n",
    "print(test_data.shape)"
   ]
  },
  {
   "cell_type": "code",
   "execution_count": 18,
   "metadata": {},
   "outputs": [],
   "source": [
    "def dataset(dataset,time=1):\n",
    "    x=[]\n",
    "    y=[]\n",
    "    for i in range(len(dataset)-time-1):\n",
    "        a=dataset[i:(i+time),0]\n",
    "        x.append(a)\n",
    "        y.append(dataset[i+time,0])\n",
    "    return np.array(x),np.array(y)    \n",
    "    "
   ]
  },
  {
   "cell_type": "code",
   "execution_count": 19,
   "metadata": {},
   "outputs": [],
   "source": [
    "time=100\n",
    "x_train,y_train=dataset(train_data,time)\n",
    "x_test,y_test=dataset(test_data,time)"
   ]
  },
  {
   "cell_type": "code",
   "execution_count": 20,
   "metadata": {},
   "outputs": [
    {
     "data": {
      "text/plain": [
       "array([[0.09640129, 0.09834351, 0.09251685, ..., 0.04584757, 0.04192578,\n",
       "        0.04409211],\n",
       "       [0.09834351, 0.09251685, 0.08881917, ..., 0.04192578, 0.04409211,\n",
       "        0.03460511],\n",
       "       [0.09251685, 0.08881917, 0.07671765, ..., 0.04409211, 0.03460511,\n",
       "        0.03219601],\n",
       "       ...,\n",
       "       [0.68472557, 0.68009412, 0.67505182, ..., 0.88453135, 0.88333613,\n",
       "        0.87799503],\n",
       "       [0.68009412, 0.67505182, 0.67647114, ..., 0.88333613, 0.87799503,\n",
       "        0.89973294],\n",
       "       [0.67505182, 0.67647114, 0.73522326, ..., 0.87799503, 0.89973294,\n",
       "        0.93146208]])"
      ]
     },
     "execution_count": 20,
     "metadata": {},
     "output_type": "execute_result"
    }
   ],
   "source": [
    "x_train"
   ]
  },
  {
   "cell_type": "code",
   "execution_count": 21,
   "metadata": {},
   "outputs": [
    {
     "data": {
      "text/plain": [
       "array([3.46051133e-02, 3.21960147e-02, 2.54542738e-02, 2.36988067e-02,\n",
       "       7.56344893e-03, 1.48467701e-02, 1.26617738e-02, 1.62287336e-02,\n",
       "       2.17379125e-02, 1.53323249e-02, 1.93474891e-02, 5.37845257e-03,\n",
       "       2.29704745e-03, 5.04229929e-04, 0.00000000e+00, 9.00143799e-03,\n",
       "       1.83763796e-02, 1.43985657e-02, 1.42491643e-02, 6.46161316e-03,\n",
       "       3.30550731e-03, 1.92354380e-03, 8.79601098e-03, 1.58739052e-03,\n",
       "       1.45106168e-02, 1.71811679e-02, 2.22234672e-02, 3.30550731e-02,\n",
       "       2.69669636e-02, 2.23915439e-02, 2.59585037e-02, 1.24003212e-02,\n",
       "       6.89114236e-03, 1.35955329e-02, 1.36328833e-02, 1.50148468e-02,\n",
       "       1.78347993e-02, 3.15797337e-02, 4.50445403e-02, 5.00681644e-02,\n",
       "       4.96759856e-02, 4.54367191e-02, 4.86862009e-02, 6.55498908e-02,\n",
       "       7.26277849e-02, 6.69505294e-02, 6.97518068e-02, 6.83698433e-02,\n",
       "       7.36735952e-02, 7.89399966e-02, 7.41778251e-02, 7.56718397e-02,\n",
       "       7.61387193e-02, 7.22916317e-02, 8.89498945e-02, 1.00771285e-01,\n",
       "       1.02078548e-01, 1.02433376e-01, 1.04861150e-01, 1.06373840e-01,\n",
       "       1.05552132e-01, 1.07979906e-01, 1.07867854e-01, 1.07830504e-01,\n",
       "       9.99869274e-02, 1.05197303e-01, 1.15786132e-01, 1.14292117e-01,\n",
       "       1.15393953e-01, 1.12069770e-01, 1.13470409e-01, 1.25926756e-01,\n",
       "       1.37430668e-01, 1.37934898e-01, 1.26636413e-01, 1.21295311e-01,\n",
       "       1.34405289e-01, 1.38121650e-01, 1.38009599e-01, 1.43388052e-01,\n",
       "       1.52594917e-01, 1.55209442e-01, 1.58514949e-01, 1.72577362e-01,\n",
       "       1.86396997e-01, 1.82998114e-01, 1.84492128e-01, 1.81186621e-01,\n",
       "       1.86490373e-01, 1.87405457e-01, 1.85481913e-01, 1.91047117e-01,\n",
       "       1.95211683e-01, 1.85164435e-01, 1.83072815e-01, 1.70242964e-01,\n",
       "       1.80439614e-01, 1.77078081e-01, 1.66806731e-01, 1.69738734e-01,\n",
       "       1.78441369e-01, 1.81298672e-01, 1.32257643e-01, 1.11733617e-01,\n",
       "       1.14236092e-01, 1.13937289e-01, 1.09287168e-01, 1.10239603e-01,\n",
       "       1.08353409e-01, 1.17560274e-01, 1.21892917e-01, 1.13806562e-01,\n",
       "       1.13470409e-01, 1.05776234e-01, 9.95013726e-02, 9.65693690e-02,\n",
       "       9.79326573e-02, 9.58783872e-02, 9.08360879e-02, 8.88191682e-02,\n",
       "       8.23202047e-02, 9.71109493e-02, 1.05552132e-01, 9.79326573e-02,\n",
       "       9.81194091e-02, 9.53181317e-02, 1.02769530e-01, 1.11995070e-01,\n",
       "       1.20342876e-01, 1.25291800e-01, 1.31510636e-01, 1.21855566e-01,\n",
       "       1.20903132e-01, 1.21948942e-01, 1.23125479e-01, 1.18251256e-01,\n",
       "       1.27812949e-01, 1.29288289e-01, 1.41352457e-01, 1.33303453e-01,\n",
       "       1.46413431e-01, 1.53099147e-01, 1.47421891e-01, 1.48953256e-01,\n",
       "       1.43537453e-01, 1.40138570e-01, 1.38009599e-01, 1.34255887e-01,\n",
       "       1.32463070e-01, 1.35861953e-01, 1.51138252e-01, 1.55732347e-01,\n",
       "       1.64603059e-01, 1.62660840e-01, 1.59803537e-01, 1.61708406e-01,\n",
       "       1.67889891e-01, 1.65499468e-01, 1.65275366e-01, 1.58589650e-01,\n",
       "       1.48673128e-01, 1.44303136e-01, 1.37897548e-01, 1.30987730e-01,\n",
       "       1.71606252e-01, 1.78889574e-01, 1.80420939e-01, 1.77750388e-01,\n",
       "       1.79001625e-01, 1.82717986e-01, 1.79636581e-01, 1.97284628e-01,\n",
       "       1.91588698e-01, 1.92186304e-01, 1.93904420e-01, 1.99338899e-01,\n",
       "       2.06659570e-01, 2.03242012e-01, 2.07798756e-01, 2.05427008e-01,\n",
       "       2.08583114e-01, 2.12785030e-01, 2.25558855e-01, 2.27389023e-01,\n",
       "       2.24120866e-01, 2.20217753e-01, 2.26884793e-01, 2.15287504e-01,\n",
       "       2.23467234e-01, 2.25558855e-01, 2.25689581e-01, 2.40293574e-01,\n",
       "       2.56410256e-01, 2.59977216e-01, 2.53123424e-01, 2.51536034e-01,\n",
       "       2.55980727e-01, 2.48716081e-01, 2.47595570e-01, 2.44159337e-01,\n",
       "       2.37940501e-01, 2.30918632e-01, 2.36969391e-01, 2.35344650e-01,\n",
       "       2.34784395e-01, 2.33234355e-01, 2.36950716e-01, 2.32076494e-01,\n",
       "       2.25558855e-01, 2.24046165e-01, 2.21151512e-01, 2.32842176e-01,\n",
       "       2.32263245e-01, 2.24400994e-01, 2.06958373e-01, 2.00029880e-01,\n",
       "       2.03932993e-01, 2.11944647e-01, 2.12635629e-01, 2.11701869e-01,\n",
       "       2.16258614e-01, 2.15324855e-01, 2.10525333e-01, 2.05837862e-01,\n",
       "       2.22253348e-01, 2.22738902e-01, 2.33477132e-01, 2.35792855e-01,\n",
       "       2.34373541e-01, 2.26249837e-01, 2.40162848e-01, 2.44756942e-01,\n",
       "       2.42049041e-01, 2.51199880e-01, 2.62591742e-01, 2.76598129e-01,\n",
       "       2.78465647e-01, 2.87784563e-01, 2.93163016e-01, 2.93984724e-01,\n",
       "       2.95777541e-01, 3.01566848e-01, 3.27319925e-01, 3.30662782e-01,\n",
       "       3.24630698e-01, 3.31241713e-01, 3.22931257e-01, 3.20746260e-01,\n",
       "       3.02743384e-01, 2.92378658e-01, 3.04760304e-01, 2.91612976e-01,\n",
       "       2.92453359e-01, 2.90679216e-01, 2.87859264e-01, 2.84721833e-01,\n",
       "       2.83657348e-01, 2.80762694e-01, 2.93480494e-01, 3.03714494e-01,\n",
       "       2.99979457e-01, 2.99064373e-01, 2.93163016e-01, 2.97850486e-01,\n",
       "       3.02239154e-01, 3.13014735e-01, 3.22165574e-01, 3.13014735e-01,\n",
       "       3.02668684e-01, 2.90044260e-01, 2.93181691e-01, 2.91612976e-01,\n",
       "       2.97831811e-01, 2.95179935e-01, 3.04704278e-01, 3.03714494e-01,\n",
       "       3.01996377e-01, 3.07804359e-01, 3.17907633e-01, 3.24126468e-01,\n",
       "       3.22445702e-01, 3.31447140e-01, 3.33482735e-01, 3.38132855e-01,\n",
       "       3.38095505e-01, 3.37068370e-01, 3.30681457e-01, 3.14826227e-01,\n",
       "       3.23865016e-01, 3.24182494e-01, 3.21661344e-01, 3.09148972e-01,\n",
       "       3.02762059e-01, 3.07262778e-01, 3.07991111e-01, 3.08831494e-01,\n",
       "       3.16320242e-01, 3.18598614e-01, 3.17216651e-01, 3.21119764e-01,\n",
       "       3.10642987e-01, 3.08215213e-01, 3.07916410e-01, 2.99979457e-01,\n",
       "       3.01380096e-01, 2.93685921e-01, 2.79455432e-01, 2.77139709e-01,\n",
       "       2.86029096e-01, 2.86141147e-01, 2.90604516e-01, 2.88587596e-01,\n",
       "       2.91612976e-01, 2.88736997e-01, 2.78334921e-01, 2.70603395e-01,\n",
       "       2.75216165e-01, 2.73049844e-01, 2.80631968e-01, 2.87429735e-01,\n",
       "       2.93368443e-01, 2.96991428e-01, 3.02537957e-01, 3.04629578e-01,\n",
       "       3.09261023e-01, 3.10120081e-01, 3.08065811e-01, 3.09298373e-01,\n",
       "       3.01286720e-01, 3.15778662e-01, 3.17646180e-01, 3.15928063e-01,\n",
       "       3.13556315e-01, 3.02874111e-01, 2.99568603e-01, 2.96038994e-01,\n",
       "       2.91164771e-01, 2.94264851e-01, 3.00614414e-01, 3.02183129e-01,\n",
       "       3.06590472e-01, 2.91164771e-01, 2.87877939e-01, 2.80426541e-01,\n",
       "       2.77326461e-01, 2.83078417e-01, 2.87411059e-01, 2.89988235e-01,\n",
       "       2.98709545e-01, 3.10530935e-01, 3.09204997e-01, 4.19481950e-01,\n",
       "       4.22787458e-01, 4.17203578e-01, 4.37428801e-01, 4.42844604e-01,\n",
       "       4.31919622e-01, 4.26895998e-01, 4.39464396e-01, 4.40005976e-01,\n",
       "       4.43741013e-01, 4.38605337e-01, 4.35225129e-01, 4.34552823e-01,\n",
       "       4.30220180e-01, 4.27362877e-01, 4.22320578e-01, 4.19930155e-01,\n",
       "       4.21442845e-01, 4.35673334e-01, 4.42078921e-01, 4.40454180e-01,\n",
       "       4.50445403e-01, 4.37428801e-01, 4.36140213e-01, 4.40752983e-01,\n",
       "       4.38754739e-01, 4.54591294e-01, 4.62322819e-01, 4.68373578e-01,\n",
       "       4.67084991e-01, 4.66823538e-01, 4.64115637e-01, 4.64619867e-01,\n",
       "       4.60604702e-01, 4.70222421e-01, 4.81670308e-01, 4.90989224e-01,\n",
       "       4.90055465e-01, 4.82267914e-01, 4.76086429e-01, 4.74592414e-01,\n",
       "       4.80232319e-01, 4.84135432e-01, 4.90690421e-01, 4.99224980e-01,\n",
       "       5.12839188e-01, 5.12316283e-01, 5.15808542e-01, 5.17003754e-01,\n",
       "       5.17209181e-01, 5.17676060e-01, 5.14650681e-01, 5.13884998e-01,\n",
       "       5.15677816e-01, 5.35062655e-01, 5.42159225e-01, 5.39264571e-01,\n",
       "       5.34483725e-01, 5.41767046e-01, 5.45576783e-01, 5.49293144e-01,\n",
       "       5.52019721e-01, 5.54540871e-01, 5.57678301e-01, 5.61282612e-01,\n",
       "       5.56258987e-01, 5.47948531e-01, 5.22793060e-01, 5.22083403e-01,\n",
       "       5.18367042e-01, 5.46958747e-01, 5.78631856e-01, 5.74149812e-01,\n",
       "       5.49293144e-01, 5.45371356e-01, 5.54092666e-01, 5.70601528e-01,\n",
       "       5.74784769e-01, 5.83599455e-01, 5.81862663e-01, 5.91069528e-01,\n",
       "       5.95252769e-01, 6.03133696e-01, 5.99734812e-01, 5.97568491e-01,\n",
       "       6.00351093e-01, 6.09912787e-01, 6.13946626e-01, 6.18036491e-01,\n",
       "       6.13703849e-01, 6.13666499e-01, 5.98446225e-01, 6.06047024e-01,\n",
       "       6.12639364e-01, 6.15496666e-01, 6.16262349e-01, 6.07578389e-01,\n",
       "       6.04478309e-01, 5.98464900e-01, 6.00930024e-01, 5.82665696e-01,\n",
       "       5.88436327e-01, 6.01882458e-01, 6.02311988e-01, 6.00108316e-01,\n",
       "       6.00126991e-01, 5.77119166e-01, 5.63112779e-01, 5.64718845e-01,\n",
       "       5.32672232e-01, 5.29758903e-01, 5.30823389e-01, 5.33512615e-01,\n",
       "       6.01266177e-01, 5.68584608e-01, 5.50880535e-01, 4.96330327e-01,\n",
       "       5.08469195e-01, 5.27779334e-01, 5.27088352e-01, 4.80531122e-01,\n",
       "       4.88169272e-01, 4.77655144e-01, 5.12185557e-01, 4.98235195e-01,\n",
       "       4.74386987e-01, 4.75376772e-01, 4.69120586e-01, 4.64974695e-01,\n",
       "       4.52032794e-01, 4.40678283e-01, 4.60903505e-01, 4.58176929e-01,\n",
       "       4.67365118e-01, 4.69363363e-01, 4.59857695e-01, 4.55973257e-01,\n",
       "       4.37111323e-01, 4.38119783e-01, 4.43106056e-01, 4.62266794e-01,\n",
       "       4.73210451e-01, 4.67495845e-01, 4.54217790e-01, 4.46635666e-01,\n",
       "       4.61501111e-01, 4.73509254e-01, 4.79018432e-01, 4.94686911e-01,\n",
       "       5.05929370e-01, 5.28955871e-01, 5.32392104e-01, 5.25239509e-01,\n",
       "       5.20290586e-01, 5.19450203e-01, 5.03520272e-01, 4.96573104e-01,\n",
       "       5.08375819e-01, 5.14165126e-01, 5.23185239e-01, 5.24492502e-01,\n",
       "       5.17564009e-01, 5.14034400e-01, 5.03445571e-01, 4.98459297e-01,\n",
       "       4.90447644e-01, 5.05779969e-01, 5.08469195e-01, 5.13268717e-01,\n",
       "       5.27088352e-01, 5.41337517e-01, 5.54951725e-01, 5.59601845e-01,\n",
       "       5.54783648e-01, 5.54223393e-01, 5.63224831e-01, 5.65167050e-01,\n",
       "       5.64364017e-01, 5.66997217e-01, 5.54148692e-01, 5.48919641e-01,\n",
       "       5.48676863e-01, 5.56613816e-01, 5.64737520e-01, 5.65839356e-01,\n",
       "       5.70676228e-01, 5.56875268e-01, 5.86326031e-01, 5.81843988e-01,\n",
       "       5.91629783e-01, 5.88268250e-01, 5.91349655e-01, 5.77119166e-01,\n",
       "       5.78314378e-01, 5.73104002e-01, 5.72730498e-01, 5.61824192e-01,\n",
       "       5.47500327e-01, 5.46361141e-01, 5.40086279e-01, 5.37714531e-01,\n",
       "       5.36201841e-01, 5.36874148e-01, 5.37322352e-01, 5.28769119e-01,\n",
       "       5.45726184e-01, 5.51123312e-01, 5.53868564e-01, 5.63430258e-01,\n",
       "       5.68696659e-01, 5.67501447e-01, 5.63411582e-01, 5.64774871e-01,\n",
       "       5.64345341e-01, 5.58387958e-01, 5.52225148e-01, 5.42458028e-01,\n",
       "       5.40198330e-01, 5.50992586e-01, 5.60591630e-01, 5.66212860e-01,\n",
       "       5.67221320e-01, 5.76951090e-01, 5.71796739e-01, 5.61544064e-01,\n",
       "       5.58406633e-01, 5.58089155e-01, 5.45632809e-01, 5.57827703e-01,\n",
       "       5.69032812e-01, 5.72805199e-01, 5.85728425e-01, 5.81003604e-01,\n",
       "       5.67781575e-01, 5.72973276e-01, 5.69891871e-01, 5.53625787e-01,\n",
       "       5.51664893e-01, 5.54746298e-01, 5.50525706e-01, 5.39955553e-01,\n",
       "       5.49853400e-01, 5.56893944e-01, 5.46211739e-01, 5.43634564e-01,\n",
       "       5.39189871e-01, 5.27331130e-01, 4.98235195e-01, 4.93921228e-01,\n",
       "       4.67122341e-01, 4.60847480e-01, 4.63742133e-01, 4.46560965e-01,\n",
       "       4.55935907e-01, 4.80157619e-01, 4.93977254e-01, 4.89625936e-01,\n",
       "       4.88748203e-01, 4.97264086e-01, 5.06956505e-01, 5.04379330e-01,\n",
       "       5.16985079e-01, 5.13866323e-01, 5.09402954e-01, 5.11830728e-01,\n",
       "       4.93360973e-01, 4.92091060e-01, 4.98403272e-01, 5.02773265e-01,\n",
       "       5.00009338e-01, 4.98776776e-01, 4.92968794e-01, 4.87590341e-01,\n",
       "       4.84154108e-01, 4.77262965e-01, 4.71417633e-01, 4.84527611e-01,\n",
       "       4.85554746e-01, 4.87945170e-01, 4.83425775e-01, 4.84266159e-01,\n",
       "       4.83164323e-01, 4.72145965e-01, 4.73079724e-01, 4.75582199e-01,\n",
       "       4.67290418e-01, 4.63779483e-01, 4.69718191e-01, 4.73696005e-01,\n",
       "       4.69213962e-01, 4.59110688e-01, 4.49063440e-01, 4.30350907e-01,\n",
       "       4.19071096e-01, 4.31863596e-01, 4.39034867e-01, 4.55319626e-01,\n",
       "       4.70409173e-01, 4.65180122e-01, 4.69830243e-01, 4.72108615e-01,\n",
       "       4.64059611e-01, 4.66748837e-01, 4.64283713e-01, 4.51341812e-01,\n",
       "       4.36158888e-01, 4.19537976e-01, 4.12516107e-01, 4.15205334e-01,\n",
       "       3.98547071e-01, 4.11582348e-01, 4.12049228e-01, 4.16624648e-01,\n",
       "       4.21293443e-01, 4.29323772e-01, 4.41948195e-01, 4.73696005e-01,\n",
       "       4.84583637e-01, 4.78663604e-01, 4.63219228e-01, 4.48858013e-01,\n",
       "       4.26690571e-01, 4.80288345e-01, 4.67495845e-01, 4.68242852e-01,\n",
       "       4.66879564e-01, 4.59110688e-01, 4.75320746e-01, 4.65628327e-01,\n",
       "       4.76254505e-01, 4.77655144e-01, 4.89513885e-01, 4.98982203e-01,\n",
       "       4.99150279e-01, 4.90765122e-01, 4.86320429e-01, 4.87515640e-01,\n",
       "       4.73901432e-01, 4.74555064e-01, 4.92109735e-01, 5.10598166e-01,\n",
       "       5.26546772e-01, 5.40403757e-01, 5.46435841e-01, 5.49647973e-01,\n",
       "       5.51141987e-01, 5.48844940e-01, 5.36911498e-01, 5.26808225e-01,\n",
       "       5.14314527e-01, 5.11027695e-01, 5.14800082e-01, 5.11924104e-01,\n",
       "       5.06228173e-01, 5.17377257e-01, 5.19263451e-01, 5.20981568e-01,\n",
       "       5.22176779e-01, 5.44960502e-01, 5.40609184e-01, 5.15733841e-01,\n",
       "       5.08992100e-01, 5.05611892e-01, 5.07927615e-01, 5.01279250e-01,\n",
       "       4.82118513e-01, 4.77580443e-01, 4.85536071e-01, 4.87702392e-01,\n",
       "       4.84172783e-01, 4.84807739e-01, 4.88094571e-01, 4.76011728e-01,\n",
       "       4.70726651e-01, 4.72314042e-01, 4.61613162e-01, 4.73247801e-01,\n",
       "       4.79391936e-01, 4.82548042e-01, 5.00943097e-01, 5.38536239e-01,\n",
       "       5.31757148e-01, 5.13212692e-01, 5.08842699e-01, 4.99337031e-01,\n",
       "       4.82435991e-01, 4.90895849e-01, 4.82809494e-01, 4.69064560e-01,\n",
       "       4.71081480e-01, 4.85442695e-01, 4.86992735e-01, 4.70614600e-01,\n",
       "       4.72687546e-01, 4.81427531e-01, 4.81931761e-01, 4.73621305e-01,\n",
       "       4.84527611e-01, 4.88748203e-01, 4.90466319e-01, 4.91119951e-01,\n",
       "       4.81427531e-01, 4.84322184e-01, 4.84434235e-01, 4.80736549e-01,\n",
       "       4.77300316e-01, 4.88897604e-01, 4.89831363e-01, 4.84396885e-01,\n",
       "       4.78065998e-01, 4.72314042e-01, 4.63125852e-01, 4.80232319e-01,\n",
       "       4.81390181e-01, 4.70446524e-01, 4.61445086e-01, 4.63947560e-01,\n",
       "       4.66450035e-01, 4.79840140e-01, 4.80026892e-01, 4.90279567e-01,\n",
       "       4.86096327e-01, 4.83295049e-01, 4.84975816e-01, 4.79111808e-01,\n",
       "       4.62024016e-01, 4.57616673e-01, 4.56570863e-01, 4.54628644e-01,\n",
       "       4.55749155e-01, 4.57485947e-01, 4.51043009e-01, 4.52985228e-01,\n",
       "       4.69400713e-01, 4.96573104e-01, 5.31570396e-01, 5.32784283e-01,\n",
       "       5.59265692e-01, 7.34420229e-01, 7.23980802e-01, 7.31674977e-01,\n",
       "       7.42207780e-01, 7.14176331e-01, 6.85304499e-01, 6.59402021e-01,\n",
       "       6.56656769e-01, 6.57646553e-01, 6.61120137e-01, 6.56806170e-01,\n",
       "       6.57086298e-01, 6.60354455e-01, 6.84725568e-01, 6.80094123e-01,\n",
       "       6.75051824e-01, 6.76471138e-01, 7.35223262e-01, 7.16734831e-01,\n",
       "       7.15801072e-01, 7.07117112e-01, 7.09974415e-01, 7.14867313e-01,\n",
       "       7.20469868e-01, 7.12981119e-01, 6.70140251e-01, 5.94094907e-01,\n",
       "       6.27934338e-01, 6.54565148e-01, 6.76751265e-01, 6.64220218e-01,\n",
       "       6.62203298e-01, 6.19362429e-01, 6.22126356e-01, 6.32154929e-01,\n",
       "       6.01826433e-01, 6.25805367e-01, 6.44872729e-01, 6.40465386e-01,\n",
       "       6.43490765e-01, 6.43640167e-01, 6.67619101e-01, 6.66218462e-01,\n",
       "       6.90402824e-01, 6.70046875e-01, 6.63491886e-01, 6.46796272e-01,\n",
       "       6.49373448e-01, 6.46366743e-01, 6.50942163e-01, 6.22611911e-01,\n",
       "       6.04683736e-01, 6.11705604e-01, 6.17924440e-01, 6.46404094e-01,\n",
       "       6.75668105e-01, 6.87321419e-01, 6.89861243e-01, 6.78357331e-01,\n",
       "       6.81233309e-01, 6.85920780e-01, 7.03307375e-01, 7.06258054e-01,\n",
       "       7.13242572e-01, 7.16678806e-01, 7.20133714e-01, 7.16211926e-01,\n",
       "       6.99684389e-01, 7.03288700e-01, 8.38123518e-01, 8.17860945e-01,\n",
       "       8.07533569e-01, 8.06338357e-01, 8.16198853e-01, 8.15713299e-01,\n",
       "       8.22473715e-01, 8.28132295e-01, 8.43912824e-01, 8.55827591e-01,\n",
       "       8.48226791e-01, 8.46919529e-01, 8.39225353e-01, 8.58666218e-01,\n",
       "       8.52690160e-01, 8.40271164e-01, 8.37171083e-01, 8.41559751e-01,\n",
       "       8.59431901e-01, 8.60533737e-01, 8.90264627e-01, 8.99210040e-01,\n",
       "       8.85334379e-01, 8.79208919e-01, 8.81842120e-01, 8.84680748e-01,\n",
       "       9.10863354e-01, 9.23954657e-01, 9.10938054e-01, 9.10004295e-01,\n",
       "       9.10452500e-01, 9.03113153e-01, 9.02048668e-01, 8.86398865e-01,\n",
       "       8.67462229e-01, 8.73102135e-01, 8.90563430e-01, 8.95250901e-01,\n",
       "       8.99154014e-01, 8.83186733e-01, 8.75473883e-01, 8.84531346e-01,\n",
       "       8.83336135e-01, 8.77995032e-01, 8.99732945e-01, 9.31462080e-01,\n",
       "       9.27017387e-01])"
      ]
     },
     "execution_count": 21,
     "metadata": {},
     "output_type": "execute_result"
    }
   ],
   "source": [
    "y_train"
   ]
  },
  {
   "cell_type": "code",
   "execution_count": 22,
   "metadata": {},
   "outputs": [
    {
     "name": "stdout",
     "output_type": "stream",
     "text": [
      "(905, 100)\n",
      "(905,)\n"
     ]
    }
   ],
   "source": [
    "print(x_train.shape)\n",
    "print(y_train.shape)\n"
   ]
  },
  {
   "cell_type": "code",
   "execution_count": 23,
   "metadata": {},
   "outputs": [
    {
     "name": "stdout",
     "output_type": "stream",
     "text": [
      "(151, 100)\n"
     ]
    }
   ],
   "source": [
    "print(x_test.shape)"
   ]
  },
  {
   "cell_type": "code",
   "execution_count": 24,
   "metadata": {},
   "outputs": [
    {
     "name": "stdout",
     "output_type": "stream",
     "text": [
      "(151,)\n"
     ]
    }
   ],
   "source": [
    "print(y_test.shape)"
   ]
  },
  {
   "cell_type": "code",
   "execution_count": 25,
   "metadata": {},
   "outputs": [],
   "source": [
    "x_train=x_train.reshape(x_train.shape[0],x_train.shape[1],1)"
   ]
  },
  {
   "cell_type": "code",
   "execution_count": 26,
   "metadata": {},
   "outputs": [],
   "source": [
    "x_test=x_test.reshape(x_test.shape[0],x_test.shape[1],1)"
   ]
  },
  {
   "cell_type": "code",
   "execution_count": 27,
   "metadata": {},
   "outputs": [],
   "source": [
    "import tensorflow"
   ]
  },
  {
   "cell_type": "code",
   "execution_count": 28,
   "metadata": {},
   "outputs": [],
   "source": [
    "from tensorflow import keras\n",
    "from keras.models import Sequential\n",
    "from keras.layers import Dense\n",
    "from keras.layers import LSTM"
   ]
  },
  {
   "cell_type": "markdown",
   "metadata": {},
   "source": [
    "# LSTM model "
   ]
  },
  {
   "cell_type": "code",
   "execution_count": 29,
   "metadata": {},
   "outputs": [],
   "source": [
    "model=Sequential()"
   ]
  },
  {
   "cell_type": "code",
   "execution_count": 30,
   "metadata": {},
   "outputs": [],
   "source": [
    "model.add(LSTM(50,return_sequences=True,input_shape=(100,1)))\n",
    "model.add(LSTM(50,return_sequences=True))\n",
    "model.add(LSTM(50))\n",
    "model.add(Dense(1))\n",
    "model.compile(loss='mean_squared_error',optimizer='adam')"
   ]
  },
  {
   "cell_type": "code",
   "execution_count": 31,
   "metadata": {},
   "outputs": [
    {
     "name": "stdout",
     "output_type": "stream",
     "text": [
      "Model: \"sequential\"\n",
      "_________________________________________________________________\n",
      "Layer (type)                 Output Shape              Param #   \n",
      "=================================================================\n",
      "lstm (LSTM)                  (None, 100, 50)           10400     \n",
      "_________________________________________________________________\n",
      "lstm_1 (LSTM)                (None, 100, 50)           20200     \n",
      "_________________________________________________________________\n",
      "lstm_2 (LSTM)                (None, 50)                20200     \n",
      "_________________________________________________________________\n",
      "dense (Dense)                (None, 1)                 51        \n",
      "=================================================================\n",
      "Total params: 50,851\n",
      "Trainable params: 50,851\n",
      "Non-trainable params: 0\n",
      "_________________________________________________________________\n"
     ]
    }
   ],
   "source": [
    "model.summary()"
   ]
  },
  {
   "cell_type": "code",
   "execution_count": 32,
   "metadata": {},
   "outputs": [
    {
     "name": "stdout",
     "output_type": "stream",
     "text": [
      "Model: \"sequential\"\n",
      "_________________________________________________________________\n",
      "Layer (type)                 Output Shape              Param #   \n",
      "=================================================================\n",
      "lstm (LSTM)                  (None, 100, 50)           10400     \n",
      "_________________________________________________________________\n",
      "lstm_1 (LSTM)                (None, 100, 50)           20200     \n",
      "_________________________________________________________________\n",
      "lstm_2 (LSTM)                (None, 50)                20200     \n",
      "_________________________________________________________________\n",
      "dense (Dense)                (None, 1)                 51        \n",
      "=================================================================\n",
      "Total params: 50,851\n",
      "Trainable params: 50,851\n",
      "Non-trainable params: 0\n",
      "_________________________________________________________________\n"
     ]
    }
   ],
   "source": [
    "model.summary()"
   ]
  },
  {
   "cell_type": "code",
   "execution_count": 33,
   "metadata": {},
   "outputs": [
    {
     "name": "stdout",
     "output_type": "stream",
     "text": [
      "Epoch 1/100\n",
      "15/15 [==============================] - 6s 194ms/step - loss: 0.1088 - val_loss: 0.0802\n",
      "Epoch 2/100\n",
      "15/15 [==============================] - 2s 112ms/step - loss: 0.0103 - val_loss: 0.0133\n",
      "Epoch 3/100\n",
      "15/15 [==============================] - 2s 104ms/step - loss: 0.0041 - val_loss: 0.0021\n",
      "Epoch 4/100\n",
      "15/15 [==============================] - 2s 101ms/step - loss: 0.0020 - val_loss: 0.0014\n",
      "Epoch 5/100\n",
      "15/15 [==============================] - 2s 107ms/step - loss: 0.0016 - val_loss: 0.0014\n",
      "Epoch 6/100\n",
      "15/15 [==============================] - 2s 106ms/step - loss: 0.0017 - val_loss: 0.0013\n",
      "Epoch 7/100\n",
      "15/15 [==============================] - 2s 102ms/step - loss: 0.0017 - val_loss: 0.0013\n",
      "Epoch 8/100\n",
      "15/15 [==============================] - 2s 109ms/step - loss: 0.0016 - val_loss: 0.0014\n",
      "Epoch 9/100\n",
      "15/15 [==============================] - 2s 116ms/step - loss: 0.0015 - val_loss: 0.0014\n",
      "Epoch 10/100\n",
      "15/15 [==============================] - 2s 111ms/step - loss: 0.0017 - val_loss: 0.0013\n",
      "Epoch 11/100\n",
      "15/15 [==============================] - 2s 110ms/step - loss: 0.0013 - val_loss: 0.0013\n",
      "Epoch 12/100\n",
      "15/15 [==============================] - 2s 104ms/step - loss: 0.0014 - val_loss: 0.0015\n",
      "Epoch 13/100\n",
      "15/15 [==============================] - 2s 105ms/step - loss: 0.0015 - val_loss: 0.0013\n",
      "Epoch 14/100\n",
      "15/15 [==============================] - 2s 118ms/step - loss: 0.0011 - val_loss: 0.0012\n",
      "Epoch 15/100\n",
      "15/15 [==============================] - 2s 124ms/step - loss: 0.0014 - val_loss: 0.0014\n",
      "Epoch 16/100\n",
      "15/15 [==============================] - 2s 115ms/step - loss: 0.0014 - val_loss: 0.0012\n",
      "Epoch 17/100\n",
      "15/15 [==============================] - 2s 117ms/step - loss: 0.0016 - val_loss: 0.0015\n",
      "Epoch 18/100\n",
      "15/15 [==============================] - 2s 117ms/step - loss: 0.0012 - val_loss: 0.0017\n",
      "Epoch 19/100\n",
      "15/15 [==============================] - 2s 120ms/step - loss: 0.0015 - val_loss: 0.0013\n",
      "Epoch 20/100\n",
      "15/15 [==============================] - 2s 121ms/step - loss: 0.0013 - val_loss: 0.0011\n",
      "Epoch 21/100\n",
      "15/15 [==============================] - 2s 122ms/step - loss: 0.0012 - val_loss: 0.0011\n",
      "Epoch 22/100\n",
      "15/15 [==============================] - 2s 122ms/step - loss: 0.0014 - val_loss: 0.0011\n",
      "Epoch 23/100\n",
      "15/15 [==============================] - 2s 165ms/step - loss: 0.0012 - val_loss: 9.7940e-04\n",
      "Epoch 24/100\n",
      "15/15 [==============================] - 2s 158ms/step - loss: 0.0013 - val_loss: 0.0023\n",
      "Epoch 25/100\n",
      "15/15 [==============================] - 2s 155ms/step - loss: 0.0015 - val_loss: 0.0041\n",
      "Epoch 26/100\n",
      "15/15 [==============================] - 2s 136ms/step - loss: 0.0012 - val_loss: 0.0014\n",
      "Epoch 27/100\n",
      "15/15 [==============================] - 2s 142ms/step - loss: 9.7317e-04 - val_loss: 0.0024\n",
      "Epoch 28/100\n",
      "15/15 [==============================] - 3s 170ms/step - loss: 0.0013 - val_loss: 0.0013\n",
      "Epoch 29/100\n",
      "15/15 [==============================] - 3s 184ms/step - loss: 0.0011 - val_loss: 9.6987e-04\n",
      "Epoch 30/100\n",
      "15/15 [==============================] - 3s 169ms/step - loss: 0.0012 - val_loss: 8.4949e-04\n",
      "Epoch 31/100\n",
      "15/15 [==============================] - 3s 168ms/step - loss: 0.0012 - val_loss: 0.0015\n",
      "Epoch 32/100\n",
      "15/15 [==============================] - 2s 165ms/step - loss: 0.0013 - val_loss: 8.8174e-04\n",
      "Epoch 33/100\n",
      "15/15 [==============================] - 3s 189ms/step - loss: 0.0012 - val_loss: 0.0011\n",
      "Epoch 34/100\n",
      "15/15 [==============================] - 3s 176ms/step - loss: 0.0010 - val_loss: 7.8680e-04\n",
      "Epoch 35/100\n",
      "15/15 [==============================] - 2s 161ms/step - loss: 0.0011 - val_loss: 8.5812e-04\n",
      "Epoch 36/100\n",
      "15/15 [==============================] - 2s 161ms/step - loss: 9.6166e-04 - val_loss: 0.0011\n",
      "Epoch 37/100\n",
      "15/15 [==============================] - 2s 153ms/step - loss: 9.6781e-04 - val_loss: 7.4672e-04\n",
      "Epoch 38/100\n",
      "15/15 [==============================] - 2s 168ms/step - loss: 9.7985e-04 - val_loss: 9.1814e-04\n",
      "Epoch 39/100\n",
      "15/15 [==============================] - 3s 190ms/step - loss: 9.4967e-04 - val_loss: 0.0014\n",
      "Epoch 40/100\n",
      "15/15 [==============================] - 2s 149ms/step - loss: 0.0011 - val_loss: 7.0895e-04\n",
      "Epoch 41/100\n",
      "15/15 [==============================] - 2s 144ms/step - loss: 9.5049e-04 - val_loss: 7.3934e-04\n",
      "Epoch 42/100\n",
      "15/15 [==============================] - 2s 144ms/step - loss: 0.0010 - val_loss: 9.0760e-04\n",
      "Epoch 43/100\n",
      "15/15 [==============================] - 2s 144ms/step - loss: 9.8224e-04 - val_loss: 7.1906e-04\n",
      "Epoch 44/100\n",
      "15/15 [==============================] - 2s 145ms/step - loss: 7.7282e-04 - val_loss: 6.6264e-04\n",
      "Epoch 45/100\n",
      "15/15 [==============================] - 2s 156ms/step - loss: 8.9089e-04 - val_loss: 6.8277e-04\n",
      "Epoch 46/100\n",
      "15/15 [==============================] - 2s 144ms/step - loss: 0.0010 - val_loss: 0.0011\n",
      "Epoch 47/100\n",
      "15/15 [==============================] - 2s 145ms/step - loss: 8.6046e-04 - val_loss: 0.0011\n",
      "Epoch 48/100\n",
      "15/15 [==============================] - 3s 179ms/step - loss: 0.0011 - val_loss: 0.0010\n",
      "Epoch 49/100\n",
      "15/15 [==============================] - 3s 181ms/step - loss: 9.0403e-04 - val_loss: 0.0011\n",
      "Epoch 50/100\n",
      "15/15 [==============================] - 3s 213ms/step - loss: 9.0982e-04 - val_loss: 5.9244e-04\n",
      "Epoch 51/100\n",
      "15/15 [==============================] - 3s 182ms/step - loss: 7.5603e-04 - val_loss: 0.0013\n",
      "Epoch 52/100\n",
      "15/15 [==============================] - 3s 167ms/step - loss: 9.6318e-04 - val_loss: 5.6905e-04\n",
      "Epoch 53/100\n",
      "15/15 [==============================] - 3s 194ms/step - loss: 7.1647e-04 - val_loss: 7.7364e-04\n",
      "Epoch 54/100\n",
      "15/15 [==============================] - 3s 182ms/step - loss: 9.9637e-04 - val_loss: 6.3896e-04\n",
      "Epoch 55/100\n",
      "15/15 [==============================] - 2s 162ms/step - loss: 8.3528e-04 - val_loss: 8.7172e-04\n",
      "Epoch 56/100\n",
      "15/15 [==============================] - 2s 164ms/step - loss: 7.4123e-04 - val_loss: 5.9194e-04\n",
      "Epoch 57/100\n",
      "15/15 [==============================] - 3s 200ms/step - loss: 7.1736e-04 - val_loss: 0.0013\n",
      "Epoch 58/100\n",
      "15/15 [==============================] - 3s 186ms/step - loss: 9.2011e-04 - val_loss: 0.0013\n",
      "Epoch 59/100\n",
      "15/15 [==============================] - 3s 228ms/step - loss: 7.9468e-04 - val_loss: 5.9290e-04\n",
      "Epoch 60/100\n",
      "15/15 [==============================] - 5s 312ms/step - loss: 6.6909e-04 - val_loss: 5.0444e-04\n",
      "Epoch 61/100\n",
      "15/15 [==============================] - 5s 347ms/step - loss: 7.9482e-04 - val_loss: 7.4151e-04\n",
      "Epoch 62/100\n",
      "15/15 [==============================] - 6s 416ms/step - loss: 6.0363e-04 - val_loss: 4.7986e-04\n",
      "Epoch 63/100\n",
      "15/15 [==============================] - 5s 364ms/step - loss: 6.9226e-04 - val_loss: 0.0012\n",
      "Epoch 64/100\n",
      "15/15 [==============================] - 6s 425ms/step - loss: 7.7041e-04 - val_loss: 6.1733e-04\n",
      "Epoch 65/100\n",
      "15/15 [==============================] - 8s 530ms/step - loss: 7.7043e-04 - val_loss: 7.7907e-04\n",
      "Epoch 66/100\n",
      "15/15 [==============================] - 6s 433ms/step - loss: 7.7366e-04 - val_loss: 4.4699e-04\n",
      "Epoch 67/100\n",
      "15/15 [==============================] - 5s 357ms/step - loss: 5.9572e-04 - val_loss: 5.6825e-04\n",
      "Epoch 68/100\n",
      "15/15 [==============================] - 5s 349ms/step - loss: 8.5417e-04 - val_loss: 4.6711e-04\n",
      "Epoch 69/100\n",
      "15/15 [==============================] - 7s 507ms/step - loss: 5.2903e-04 - val_loss: 6.3578e-04\n",
      "Epoch 70/100\n",
      "15/15 [==============================] - 5s 362ms/step - loss: 6.4269e-04 - val_loss: 0.0016\n",
      "Epoch 71/100\n",
      "15/15 [==============================] - 5s 291ms/step - loss: 6.9827e-04 - val_loss: 5.3798e-04\n",
      "Epoch 72/100\n",
      "15/15 [==============================] - 4s 290ms/step - loss: 5.9314e-04 - val_loss: 4.6279e-04\n",
      "Epoch 73/100\n",
      "15/15 [==============================] - 4s 279ms/step - loss: 6.4476e-04 - val_loss: 5.3566e-04\n",
      "Epoch 74/100\n",
      "15/15 [==============================] - 4s 258ms/step - loss: 5.6085e-04 - val_loss: 5.7761e-04\n",
      "Epoch 75/100\n",
      "15/15 [==============================] - 4s 283ms/step - loss: 5.2032e-04 - val_loss: 3.9409e-04\n",
      "Epoch 76/100\n",
      "15/15 [==============================] - 5s 312ms/step - loss: 5.5532e-04 - val_loss: 4.8541e-04\n",
      "Epoch 77/100\n",
      "15/15 [==============================] - 5s 335ms/step - loss: 5.6174e-04 - val_loss: 5.4656e-04\n",
      "Epoch 78/100\n",
      "15/15 [==============================] - 5s 356ms/step - loss: 4.6314e-04 - val_loss: 0.0012\n",
      "Epoch 79/100\n",
      "15/15 [==============================] - 5s 365ms/step - loss: 6.3042e-04 - val_loss: 0.0019\n",
      "Epoch 80/100\n",
      "15/15 [==============================] - 7s 462ms/step - loss: 7.1012e-04 - val_loss: 3.7835e-04\n",
      "Epoch 81/100\n",
      "15/15 [==============================] - 6s 393ms/step - loss: 5.0773e-04 - val_loss: 4.0082e-04\n",
      "Epoch 82/100\n",
      "15/15 [==============================] - 6s 409ms/step - loss: 4.7120e-04 - val_loss: 7.4036e-04\n",
      "Epoch 83/100\n",
      "15/15 [==============================] - 6s 418ms/step - loss: 5.7737e-04 - val_loss: 3.7353e-04\n",
      "Epoch 84/100\n",
      "15/15 [==============================] - 7s 451ms/step - loss: 4.5452e-04 - val_loss: 3.9086e-04\n",
      "Epoch 85/100\n",
      "15/15 [==============================] - 6s 428ms/step - loss: 4.7034e-04 - val_loss: 5.4878e-04\n",
      "Epoch 86/100\n",
      "15/15 [==============================] - 6s 412ms/step - loss: 4.7225e-04 - val_loss: 4.0539e-04\n",
      "Epoch 87/100\n",
      "15/15 [==============================] - 7s 465ms/step - loss: 5.0973e-04 - val_loss: 6.3527e-04\n",
      "Epoch 88/100\n",
      "15/15 [==============================] - 6s 380ms/step - loss: 4.9566e-04 - val_loss: 5.0698e-04\n",
      "Epoch 89/100\n",
      "15/15 [==============================] - 5s 362ms/step - loss: 4.9305e-04 - val_loss: 3.9902e-04\n",
      "Epoch 90/100\n",
      "15/15 [==============================] - 4s 263ms/step - loss: 4.5699e-04 - val_loss: 6.4177e-04\n",
      "Epoch 91/100\n",
      "15/15 [==============================] - 4s 279ms/step - loss: 7.8882e-04 - val_loss: 7.5778e-04\n",
      "Epoch 92/100\n",
      "15/15 [==============================] - 4s 265ms/step - loss: 5.0186e-04 - val_loss: 3.7795e-04\n",
      "Epoch 93/100\n",
      "15/15 [==============================] - 3s 221ms/step - loss: 3.8851e-04 - val_loss: 7.4349e-04\n",
      "Epoch 94/100\n",
      "15/15 [==============================] - 3s 168ms/step - loss: 4.4856e-04 - val_loss: 0.0010\n",
      "Epoch 95/100\n",
      "15/15 [==============================] - 3s 194ms/step - loss: 3.9565e-04 - val_loss: 5.5230e-04\n",
      "Epoch 96/100\n",
      "15/15 [==============================] - 3s 167ms/step - loss: 3.8982e-04 - val_loss: 3.0830e-04\n",
      "Epoch 97/100\n",
      "15/15 [==============================] - 3s 169ms/step - loss: 4.5038e-04 - val_loss: 0.0026\n",
      "Epoch 98/100\n",
      "15/15 [==============================] - 2s 167ms/step - loss: 6.5863e-04 - val_loss: 3.1092e-04\n",
      "Epoch 99/100\n",
      "15/15 [==============================] - 3s 168ms/step - loss: 3.6069e-04 - val_loss: 4.4773e-04\n",
      "Epoch 100/100\n",
      "15/15 [==============================] - 2s 165ms/step - loss: 3.3397e-04 - val_loss: 6.1863e-04\n"
     ]
    },
    {
     "data": {
      "text/plain": [
       "<tensorflow.python.keras.callbacks.History at 0x7f96ef45f0d0>"
      ]
     },
     "execution_count": 33,
     "metadata": {},
     "output_type": "execute_result"
    }
   ],
   "source": [
    "model.fit(x_train,y_train,validation_data=(x_test,y_test),epochs=100,batch_size=64,verbose=1)\n"
   ]
  },
  {
   "cell_type": "markdown",
   "metadata": {},
   "source": [
    "# predictions"
   ]
  },
  {
   "cell_type": "code",
   "execution_count": 42,
   "metadata": {},
   "outputs": [],
   "source": [
    "training_prediction=model.predict(x_train)\n",
    "test_prediction=model.predict(x_test)"
   ]
  },
  {
   "cell_type": "code",
   "execution_count": 43,
   "metadata": {},
   "outputs": [],
   "source": [
    "training_prediction=scaler.inverse_transform(training_prediction)\n",
    "test_prediction=scaler.inverse_transform(test_prediction)"
   ]
  },
  {
   "cell_type": "markdown",
   "metadata": {},
   "source": [
    "# plottiing prediction on training set"
   ]
  },
  {
   "cell_type": "code",
   "execution_count": 68,
   "metadata": {},
   "outputs": [
    {
     "data": {
      "image/png": "[encoded data removed]",
      "text/plain": [
       "<Figure size 432x288 with 1 Axes>"
      ]
     },
     "metadata": {
      "needs_background": "light"
     },
     "output_type": "display_data"
    }
   ],
   "source": [
    "plt.plot(df2[100:,0],'b')\n",
    "plt.plot(training_prediction,'r')\n",
    "plt.show()"
   ]
  },
  {
   "cell_type": "markdown",
   "metadata": {},
   "source": [
    "# plotting prediction of test set"
   ]
  },
  {
   "cell_type": "code",
   "execution_count": 70,
   "metadata": {},
   "outputs": [
    {
     "data": {
      "text/plain": [
       "[<matplotlib.lines.Line2D at 0x7f96da509e50>]"
      ]
     },
     "execution_count": 70,
     "metadata": {},
     "output_type": "execute_result"
    },
    {
     "data": {
      "image/png": "[encoded data removed]",
      "text/plain": [
       "<Figure size 432x288 with 1 Axes>"
      ]
     },
     "metadata": {
      "needs_background": "light"
     },
     "output_type": "display_data"
    }
   ],
   "source": [
    "plt.plot(df2[1106:,0],'y')\n",
    "plt.plot(test_prediction,'g')"
   ]
  },
  {
   "cell_type": "code",
   "execution_count": null,
   "metadata": {},
   "outputs": [],
   "source": []
  }
 ],
 "metadata": {
  "kernelspec": {
   "display_name": "Python 3",
   "language": "python",
   "name": "python3"
  },
  "language_info": {
   "codemirror_mode": {
    "name": "ipython",
    "version": 3
   },
   "file_extension": ".py",
   "mimetype": "text/x-python",
   "name": "python",
   "nbconvert_exporter": "python",
   "pygments_lexer": "ipython3",
   "version": "3.8.5"
  }
 },
 "nbformat": 4,
 "nbformat_minor": 4
}
